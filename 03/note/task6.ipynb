{
 "cells": [
  {
   "cell_type": "markdown",
   "metadata": {},
   "source": [
    "教科書P.116の可変鮮鋭化フィルタを任意の画像に適用し、その効果を  \n",
    "調べなさい。ただし、効果の違いがわかるような適切な比較検討方法  \n",
    "ないし実験を自由に考案して実施すること。  "
   ]
  },
  {
   "cell_type": "code",
   "execution_count": 1,
   "metadata": {},
   "outputs": [],
   "source": [
    "from PIL import Image, ImageFilter, ImageOps\n",
    "import matplotlib.pyplot as plt\n",
    "import numpy as np"
   ]
  },
  {
   "cell_type": "code",
   "execution_count": 2,
   "metadata": {},
   "outputs": [],
   "source": [
    "img = Image.open('vim.png')"
   ]
  },
  {
   "cell_type": "code",
   "execution_count": 3,
   "metadata": {},
   "outputs": [],
   "source": [
    "def 平均化(im , num:int):\n",
    "    if (num%2==0):\n",
    "        return \"numは奇数を選択してください\"\n",
    "    img_width, img_height = img.size\n",
    "    result_point = 0\n",
    "    for i in range(num):\n",
    "        for j in range(num):\n",
    "            枠 = Image.new('RGB', (img_width+(num-1), img_height+(num-1)))\n",
    "            枠.paste(im, (i,j))\n",
    "            result_point= result_point + np.array(枠)/(num**2)\n",
    "    結果画像_tmp = Image.fromarray(result_point.astype(np.uint8))\n",
    "    result = Image.new('RGB', (img_width, img_height))\n",
    "    result.paste(結果画像_tmp, ((int(num/2)*-1), (int(num/2))*-1))\n",
    "    return Image.fromarray(np.array(result).astype(np.uint8))"
   ]
  },
  {
   "cell_type": "code",
   "execution_count": 4,
   "metadata": {},
   "outputs": [],
   "source": [
    "def 先鋭化(im, k: int):\n",
    "    平滑化 = 平均化(im, 5)\n",
    "    平滑化_point = np.array(平滑化)\n",
    "    im_point = np.array(im)\n",
    "    \n",
    "    laplacian_filter = (im_point*1.0 - 平滑化_point*1.0)*k\n",
    "    鮮鋭化 = (im_point*1.0 + laplacian_filter)\n",
    "    鮮鋭化 =np.where((鮮鋭化<255),鮮鋭化, 255)\n",
    "    鮮鋭化 =np.where((鮮鋭化<0), 0,鮮鋭化)\n",
    "    出力画像 = Image.fromarray(鮮鋭化.astype(np.uint8))\n",
    "    return 出力画像"
   ]
  },
  {
   "cell_type": "code",
   "execution_count": 6,
   "metadata": {
    "scrolled": false
   },
   "outputs": [],
   "source": [
    "先鋭化(img, 5).save('./task6.jpg')"
   ]
  },
  {
   "cell_type": "code",
   "execution_count": null,
   "metadata": {},
   "outputs": [],
   "source": []
  }
 ],
 "metadata": {
  "kernelspec": {
   "display_name": "Python 3",
   "language": "python",
   "name": "python3"
  },
  "language_info": {
   "codemirror_mode": {
    "name": "ipython",
    "version": 3
   },
   "file_extension": ".py",
   "mimetype": "text/x-python",
   "name": "python",
   "nbconvert_exporter": "python",
   "pygments_lexer": "ipython3",
   "version": "3.7.6"
  }
 },
 "nbformat": 4,
 "nbformat_minor": 2
}
