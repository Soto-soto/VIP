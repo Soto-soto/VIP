{
 "cells": [
  {
   "cell_type": "code",
   "execution_count": 13,
   "metadata": {},
   "outputs": [],
   "source": [
    "from PIL import Image, ImageFilter, ImageOps\n",
    "import matplotlib.pyplot as plt\n",
    "import numpy as np\n",
    "from random import randint"
   ]
  },
  {
   "cell_type": "code",
   "execution_count": null,
   "metadata": {},
   "outputs": [],
   "source": []
  },
  {
   "cell_type": "code",
   "execution_count": null,
   "metadata": {},
   "outputs": [],
   "source": []
  },
  {
   "cell_type": "code",
   "execution_count": 14,
   "metadata": {},
   "outputs": [],
   "source": [
    "# 引数として取ったものを，9等分してランダムにひとつ反転して返す\n",
    "def ランダム反転(image):\n",
    "    img_width, img_height = image.size\n",
    "    x=randint(0,2)\n",
    "    y=randint(0,2)\n",
    "    \n",
    "    def _三分の一(width: int, height: int, split_num: tuple):\n",
    "        im = Image.open('vim.png')\n",
    "        w3 = width/3\n",
    "        h3 = height/3\n",
    "        return (w3*split_num[0], h3*split_num[1], w3*(split_num[0]+1), h3*(split_num[1]+1))\n",
    "\n",
    "    \n",
    "    graph = Image.new('RGB', (img_width, img_height))\n",
    "    for i in range(3):\n",
    "        dst = Image.new('RGB', (img_width, int(img_height/3)))\n",
    "        for j in range(3):\n",
    "            img = im.crop((_三分の一(img_width,img_height, (j,i))))\n",
    "            if (i == x) & (j == y):\n",
    "                img = ImageOps.mirror(img)\n",
    "            dst.paste(img, (int(img_width*j/3),0))\n",
    "        graph.paste(dst, (0,int(img_height*i/3)))\n",
    "    return graph"
   ]
  },
  {
   "cell_type": "code",
   "execution_count": 15,
   "metadata": {},
   "outputs": [],
   "source": [
    "im = Image.open('vim.png')"
   ]
  },
  {
   "cell_type": "code",
   "execution_count": null,
   "metadata": {},
   "outputs": [],
   "source": [
    "im=ランダム反転(im)"
   ]
  },
  {
   "cell_type": "code",
   "execution_count": null,
   "metadata": {},
   "outputs": [],
   "source": []
  },
  {
   "cell_type": "code",
   "execution_count": null,
   "metadata": {},
   "outputs": [],
   "source": []
  }
 ],
 "metadata": {
  "kernelspec": {
   "display_name": "Python 3",
   "language": "python",
   "name": "python3"
  },
  "language_info": {
   "codemirror_mode": {
    "name": "ipython",
    "version": 3
   },
   "file_extension": ".py",
   "mimetype": "text/x-python",
   "name": "python",
   "nbconvert_exporter": "python",
   "pygments_lexer": "ipython3",
   "version": "3.7.5"
  }
 },
 "nbformat": 4,
 "nbformat_minor": 2
}
