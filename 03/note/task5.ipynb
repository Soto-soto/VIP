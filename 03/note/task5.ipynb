{
 "cells": [
  {
   "cell_type": "code",
   "execution_count": 1,
   "metadata": {},
   "outputs": [],
   "source": [
    "from PIL import Image, ImageFilter, ImageOps\n",
    "import matplotlib.pyplot as plt\n",
    "import numpy as np"
   ]
  },
  {
   "cell_type": "code",
   "execution_count": 2,
   "metadata": {},
   "outputs": [],
   "source": [
    "img = Image.open('vim.png')"
   ]
  },
  {
   "cell_type": "code",
   "execution_count": 3,
   "metadata": {},
   "outputs": [],
   "source": [
    "# 加重平均フィルタ"
   ]
  },
  {
   "cell_type": "code",
   "execution_count": 12,
   "metadata": {},
   "outputs": [],
   "source": [
    "img.filter(ImageFilter.GaussianBlur(1.0)).save('./task5_1_1.jpg')"
   ]
  },
  {
   "cell_type": "code",
   "execution_count": 13,
   "metadata": {},
   "outputs": [],
   "source": [
    "img.filter(ImageFilter.GaussianBlur(2.0)).save('./task5_1_2.jpg')"
   ]
  },
  {
   "cell_type": "code",
   "execution_count": null,
   "metadata": {},
   "outputs": [],
   "source": []
  },
  {
   "cell_type": "code",
   "execution_count": 14,
   "metadata": {},
   "outputs": [],
   "source": [
    "def 平均化(im , num:int):\n",
    "    if (num%2==0):\n",
    "        return \"numは奇数を選択してください\"\n",
    "    img_width, img_height = img.size\n",
    "    result_point = 0\n",
    "    for i in range(num):\n",
    "        for j in range(num):\n",
    "            枠 = Image.new('RGB', (img_width+(num-1), img_height+(num-1)))\n",
    "            枠.paste(im, (i,j))\n",
    "            result_point= result_point + np.array(枠)/(num**2)\n",
    "    結果画像_tmp = Image.fromarray(result_point.astype(np.uint8))\n",
    "    result = Image.new('RGB', (img_width, img_height))\n",
    "    result.paste(結果画像_tmp, ((int(num/2)*-1), (int(num/2))*-1))\n",
    "    return Image.fromarray(np.array(result).astype(np.uint8))"
   ]
  },
  {
   "cell_type": "code",
   "execution_count": 15,
   "metadata": {},
   "outputs": [],
   "source": [
    "平均化(img , 3).save('./task5_2_1.jpg')"
   ]
  },
  {
   "cell_type": "code",
   "execution_count": 16,
   "metadata": {},
   "outputs": [],
   "source": [
    "平均化(img , 5).save('./task5_2_2.jpg')"
   ]
  },
  {
   "cell_type": "code",
   "execution_count": null,
   "metadata": {},
   "outputs": [],
   "source": []
  }
 ],
 "metadata": {
  "kernelspec": {
   "display_name": "Python 3",
   "language": "python",
   "name": "python3"
  },
  "language_info": {
   "codemirror_mode": {
    "name": "ipython",
    "version": 3
   },
   "file_extension": ".py",
   "mimetype": "text/x-python",
   "name": "python",
   "nbconvert_exporter": "python",
   "pygments_lexer": "ipython3",
   "version": "3.7.6"
  }
 },
 "nbformat": 4,
 "nbformat_minor": 2
}
